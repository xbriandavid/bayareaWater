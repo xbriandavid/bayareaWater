{
 "nbformat": 4,
 "nbformat_minor": 2,
 "metadata": {
  "language_info": {
   "name": "python",
   "codemirror_mode": {
    "name": "ipython",
    "version": 3
   },
   "version": "3.6.4-final"
  },
  "orig_nbformat": 2,
  "file_extension": ".py",
  "mimetype": "text/x-python",
  "name": "python",
  "npconvert_exporter": "python",
  "pygments_lexer": "ipython3",
  "version": 3,
  "kernelspec": {
   "name": "python36464bitbaseconda21bf237a517b470898fde92cf9c1e802",
   "display_name": "Python 3.6.4 64-bit ('base': conda)"
  }
 },
 "cells": [
  {
   "cell_type": "markdown",
   "execution_count": null,
   "metadata": {},
   "outputs": [],
   "source": [
    "# Cleaning and Organizing the Data from U.S.G.S."
   ]
  },
  {
   "cell_type": "markdown",
   "execution_count": null,
   "metadata": {},
   "outputs": [],
   "source": [
    "\n",
    "Throughout the data wrangling process, we utilized the Pandas package. The dataset was queried on the USGS' website: https://sfbay.wr.usgs.gov/access/wqdata/index.html . This website provides extensive data on the water quality of the San Francisco Bay and lays out the entirety of the data that we analyzed. The site contains years of information for which we selected a subset of years that are more recent and relevant (2014 - 2018). Each querry is based on a year, such that a querry was made for water quality in the year 2014, water quality in the year 2015, and so on. Afterwards, the query was completed with a download of its excel file. For my convenience, I had created one excel file, \"Main Data\", that contains 4 sheets: 2014-2015, 2016, 2017, and 2018 water quality data.\n",
    "\n"
   ]
  },
  {
   "cell_type": "code",
   "execution_count": 2,
   "metadata": {},
   "outputs": [],
   "source": [
    "import pandas as pd\n",
    "data = pd.ExcelFile(\"SFBay_WaterQuality2014-208.xlsx\")\n",
    "tabnames = data.sheet_names\n",
    "\n",
    "quality_201415 = data.parse(sheet_name = tabnames[0], skiprows = 0)\n",
    "quality_2016 = data.parse(sheet_name = tabnames[1], skiprows = 0)\n",
    "quality_2017 = data.parse(sheet_name = tabnames[2], skiprows = 0)\n",
    "quality_2018 = data.parse(sheet_name = tabnames[3], skiprows =0)"
   ]
  },
  {
   "cell_type": "markdown",
   "execution_count": null,
   "metadata": {},
   "outputs": [],
   "source": [
    "Let's print the head of the \"quality_2018\" data frame. There are 22 columns in the dataset. Furthermore, some of the units of the columns (let's refer them to constituents) are placed in another row. Let's clean that up."
   ]
  },
  {
   "cell_type": "code",
   "execution_count": 2,
   "metadata": {},
   "outputs": [
    {
     "data": {
      "text/html": "<div>\n<style scoped>\n    .dataframe tbody tr th:only-of-type {\n        vertical-align: middle;\n    }\n\n    .dataframe tbody tr th {\n        vertical-align: top;\n    }\n\n    .dataframe thead th {\n        text-align: right;\n    }\n</style>\n<table border=\"1\" class=\"dataframe\">\n  <thead>\n    <tr style=\"text-align: right;\">\n      <th></th>\n      <th>Date</th>\n      <th>Station Number</th>\n      <th>Depth</th>\n      <th>Discrete Chlorophyll</th>\n      <th>Chlorophyll a/a+PHA</th>\n      <th>Fluorescence</th>\n      <th>Calculated Chlorophyll</th>\n      <th>Discrete Oxygen</th>\n      <th>Oxygen Electrode Output</th>\n      <th>Oxygen Saturation %</th>\n      <th>...</th>\n      <th>Optical Backscatter</th>\n      <th>Calculated SPM</th>\n      <th>Measured Extinction Coefficient</th>\n      <th>Salinity</th>\n      <th>Temperature</th>\n      <th>Nitrite</th>\n      <th>Nitrate + Nitrite</th>\n      <th>Ammonium</th>\n      <th>Phosphate</th>\n      <th>Silicate</th>\n    </tr>\n  </thead>\n  <tbody>\n    <tr>\n      <th>0</th>\n      <td>MM/DD/YYYY</td>\n      <td>NaN</td>\n      <td>[meters]</td>\n      <td>[mg/m3]</td>\n      <td>NaN</td>\n      <td>[volts]</td>\n      <td>[mg/m3]</td>\n      <td>[mg/L]</td>\n      <td>[volts]</td>\n      <td>NaN</td>\n      <td>...</td>\n      <td>[volts]</td>\n      <td>[mg/L]</td>\n      <td>[per meter]</td>\n      <td>[psu]</td>\n      <td>[°C]</td>\n      <td>[µM]</td>\n      <td>[µM]</td>\n      <td>[µM]</td>\n      <td>[µM]</td>\n      <td>[µM]</td>\n    </tr>\n    <tr>\n      <th>1</th>\n      <td>2018-01-10 00:00:00</td>\n      <td>36.0</td>\n      <td>1</td>\n      <td>NaN</td>\n      <td>NaN</td>\n      <td>0.55</td>\n      <td>4.9</td>\n      <td>NaN</td>\n      <td>8.2</td>\n      <td>88.0</td>\n      <td>...</td>\n      <td>2.39</td>\n      <td>98</td>\n      <td>NaN</td>\n      <td>23.4</td>\n      <td>11.96</td>\n      <td>NaN</td>\n      <td>NaN</td>\n      <td>NaN</td>\n      <td>NaN</td>\n      <td>NaN</td>\n    </tr>\n    <tr>\n      <th>2</th>\n      <td>2018-01-10 00:00:00</td>\n      <td>36.0</td>\n      <td>2</td>\n      <td>4.2</td>\n      <td>0.51</td>\n      <td>0.46</td>\n      <td>4.1</td>\n      <td>NaN</td>\n      <td>8.2</td>\n      <td>89.0</td>\n      <td>...</td>\n      <td>2.6</td>\n      <td>107</td>\n      <td>NaN</td>\n      <td>23.54</td>\n      <td>11.97</td>\n      <td>2.66</td>\n      <td>76.39</td>\n      <td>13.42</td>\n      <td>6.97</td>\n      <td>110.84</td>\n    </tr>\n    <tr>\n      <th>3</th>\n      <td>2018-01-10 00:00:00</td>\n      <td>36.0</td>\n      <td>3</td>\n      <td>NaN</td>\n      <td>NaN</td>\n      <td>0.43</td>\n      <td>3.9</td>\n      <td>NaN</td>\n      <td>8.2</td>\n      <td>89.0</td>\n      <td>...</td>\n      <td>3.01</td>\n      <td>124</td>\n      <td>NaN</td>\n      <td>24.26</td>\n      <td>11.96</td>\n      <td>NaN</td>\n      <td>NaN</td>\n      <td>NaN</td>\n      <td>NaN</td>\n      <td>NaN</td>\n    </tr>\n    <tr>\n      <th>4</th>\n      <td>2018-01-10 00:00:00</td>\n      <td>36.0</td>\n      <td>4</td>\n      <td>NaN</td>\n      <td>NaN</td>\n      <td>0.46</td>\n      <td>4.1</td>\n      <td>NaN</td>\n      <td>8.2</td>\n      <td>89.0</td>\n      <td>...</td>\n      <td>5.12</td>\n      <td>213</td>\n      <td>NaN</td>\n      <td>24.36</td>\n      <td>11.97</td>\n      <td>NaN</td>\n      <td>NaN</td>\n      <td>NaN</td>\n      <td>NaN</td>\n      <td>NaN</td>\n    </tr>\n  </tbody>\n</table>\n<p>5 rows × 22 columns</p>\n</div>",
      "text/plain": "                  Date  Station Number     Depth Discrete Chlorophyll  \\\n0           MM/DD/YYYY             NaN  [meters]              [mg/m3]   \n1  2018-01-10 00:00:00            36.0         1                  NaN   \n2  2018-01-10 00:00:00            36.0         2                  4.2   \n3  2018-01-10 00:00:00            36.0         3                  NaN   \n4  2018-01-10 00:00:00            36.0         4                  NaN   \n\n   Chlorophyll a/a+PHA Fluorescence Calculated Chlorophyll Discrete Oxygen  \\\n0                  NaN      [volts]                [mg/m3]          [mg/L]   \n1                  NaN         0.55                    4.9             NaN   \n2                 0.51         0.46                    4.1             NaN   \n3                  NaN         0.43                    3.9             NaN   \n4                  NaN         0.46                    4.1             NaN   \n\n  Oxygen Electrode Output  Oxygen Saturation %  ... Optical Backscatter  \\\n0                 [volts]                  NaN  ...             [volts]   \n1                     8.2                 88.0  ...                2.39   \n2                     8.2                 89.0  ...                 2.6   \n3                     8.2                 89.0  ...                3.01   \n4                     8.2                 89.0  ...                5.12   \n\n  Calculated SPM Measured Extinction Coefficient Salinity Temperature Nitrite  \\\n0         [mg/L]                     [per meter]    [psu]        [°C]    [µM]   \n1             98                             NaN     23.4       11.96     NaN   \n2            107                             NaN    23.54       11.97    2.66   \n3            124                             NaN    24.26       11.96     NaN   \n4            213                             NaN    24.36       11.97     NaN   \n\n  Nitrate + Nitrite Ammonium Phosphate Silicate  \n0              [µM]     [µM]      [µM]     [µM]  \n1               NaN      NaN       NaN      NaN  \n2             76.39    13.42      6.97   110.84  \n3               NaN      NaN       NaN      NaN  \n4               NaN      NaN       NaN      NaN  \n\n[5 rows x 22 columns]"
     },
     "execution_count": 2,
     "metadata": {},
     "output_type": "execute_result"
    }
   ],
   "source": [
    "quality_2018.head()"
   ]
  },
  {
   "cell_type": "markdown",
   "execution_count": null,
   "metadata": {},
   "outputs": [],
   "source": [
    "We have found our first issue! The first row displays the corresponding units of measurement for each of the constitutents above it (note that some constituents may already have their corresponding units of measurement in their labels). We wish to rename the column labels by adding the corresponding name of unit of measurement with their associated constituent. For example, the column 'Depth' has the unit of measurement '[meters]'; we want this to become 'Depth [meters]' as the new column label. The method below will correct this issue by merging the first two rows.  "
   ]
  },
  {
   "cell_type": "code",
   "execution_count": 3,
   "metadata": {},
   "outputs": [],
   "source": [
    "def unit_measurement_fix(df):\n",
    "    cols = df.columns\n",
    "    cols1 = [str(x) for x  in df.iloc[0,:]]\n",
    "    cols1 = [(x,y) for x,y in zip(cols, cols1)]\n",
    "    cols1 = [x + \" \" + y for x,y in cols1 ]\n",
    "    cols1 = [x.split(\" \") if \"nan\" in x else x for x in cols1 ]\n",
    "    cols1 = [x[0] + \" \" + x[1] if isinstance(x, list) else x for x in cols1]\n",
    "    df.columns = cols1\n",
    "    df.drop(df.index[0], axis = 0, inplace=True)\n",
    "    df.set_index(df.columns[0], inplace = True)\n",
    "    return df\n",
    "\n",
    "\n",
    "quality_201415 = unit_measurement_fix(quality_201415)\n",
    "quality_2016 = unit_measurement_fix(quality_2016)\n",
    "quality_2017 = unit_measurement_fix(quality_2017)\n",
    "quality_2018 = unit_measurement_fix(quality_2018)"
   ]
  },
  {
   "cell_type": "markdown",
   "execution_count": null,
   "metadata": {},
   "outputs": [],
   "source": [
    "Let's examine the column names of the quality_2018 to see results of the unit_measurement_fix method:"
   ]
  },
  {
   "cell_type": "code",
   "execution_count": 5,
   "metadata": {},
   "outputs": [
    {
     "data": {
      "text/plain": "Index(['Station Number', 'Depth [meters]', 'Discrete Chlorophyll [mg/m3]',\n       'Chlorophyll a/a+PHA', 'Fluorescence [volts]',\n       'Calculated Chlorophyll [mg/m3]', 'Discrete Oxygen [mg/L]',\n       'Oxygen Electrode Output [volts]', 'Oxygen Saturation',\n       'Calculated Oxygen [mg/L]', 'Discrete SPM [mg/L]',\n       'Optical Backscatter [volts]', 'Calculated SPM [mg/L]',\n       'Measured Extinction Coefficient [per meter]', 'Salinity [psu]',\n       'Temperature [°C]', 'Nitrite [µM]', 'Nitrate + Nitrite [µM]',\n       'Ammonium [µM]', 'Phosphate [µM]', 'Silicate [µM]'],\n      dtype='object')"
     },
     "execution_count": 5,
     "metadata": {},
     "output_type": "execute_result"
    }
   ],
   "source": [
    "quality_2018.columns"
   ]
  },
  {
   "cell_type": "markdown",
   "execution_count": null,
   "metadata": {},
   "outputs": [],
   "source": [
    "Oneof the column names for the 2014/2015 dataset is incorrect: 'Depth ' should be 'Depth [meters]', This could have possibly been due to inconsistencies from the original dataset. "
   ]
  },
  {
   "cell_type": "code",
   "execution_count": 6,
   "metadata": {},
   "outputs": [
    {
     "data": {
      "text/plain": "Index(['Station Number', 'Depth  ', 'Discrete Chlorophyll [mg/m3]',\n       'Chlorophyll a/a+PHA', 'Fluorescence [volts]',\n       'Calculated Chlorophyll [mg/m3]', 'Discrete Oxygen [mg/L]',\n       'Oxygen Electrode Output [volts]', 'Oxygen Saturation',\n       'Calculated Oxygen [mg/L]', 'Discrete SPM [mg/L]',\n       'Optical Backscatter [volts]', 'Calculated SPM [mg/L]',\n       'Measured Extinction Coefficient [per meter]', 'Salinity [psu]',\n       'Temperature [°C]', 'Nitrite [µM]', 'Nitrate + Nitrite [µM]',\n       'Ammonium [µM]', 'Phosphate [µM]', 'Silicate [µM]'],\n      dtype='object')"
     },
     "execution_count": 6,
     "metadata": {},
     "output_type": "execute_result"
    }
   ],
   "source": [
    "quality_201415.columns"
   ]
  },
  {
   "cell_type": "code",
   "execution_count": 8,
   "metadata": {},
   "outputs": [
    {
     "data": {
      "text/plain": "Index(['Station Number', 'Depth [meters]', 'Discrete Chlorophyll [mg/m3]',\n       'Chlorophyll a/a+PHA', 'Fluorescence [volts]',\n       'Calculated Chlorophyll [mg/m3]', 'Discrete Oxygen [mg/L]',\n       'Oxygen Electrode Output [volts]', 'Oxygen Saturation',\n       'Calculated Oxygen [mg/L]', 'Discrete SPM [mg/L]',\n       'Optical Backscatter [volts]', 'Calculated SPM [mg/L]',\n       'Measured Extinction Coefficient [per meter]', 'Salinity [psu]',\n       'Temperature [°C]', 'Nitrite [µM]', 'Nitrate + Nitrite [µM]',\n       'Ammonium [µM]', 'Phosphate [µM]', 'Silicate [µM]'],\n      dtype='object')"
     },
     "execution_count": 8,
     "metadata": {},
     "output_type": "execute_result"
    }
   ],
   "source": [
    "# We'll use the quality_2018 dataframe column names as the replacement names. \n",
    "quality_201415.columns = [column_name for column_name in quality_2018.columns]\n",
    "quality_201415.columns"
   ]
  },
  {
   "cell_type": "markdown",
   "execution_count": null,
   "metadata": {},
   "outputs": [],
   "source": [
    "Now we've done the first step of the data cleansing process! Next, we will add the coordinates for the station numbers. Data of the coordinates can also be obtained from the USGS website. It was provided as an excel file, and here we import it and merge + map it with each of yearly data sets."
   ]
  },
  {
   "cell_type": "code",
   "execution_count": 14,
   "metadata": {},
   "outputs": [],
   "source": [
    "# I put the dataframe years inside a list. \n",
    "dataframes = [quality_201415, quality_2016, quality_2017, quality_2018]\n",
    "\n",
    "#Column names: 'Station Number', 'North Longitude Degrees', 'North Latitude Minutes', 'West Longitude #Degrees','West Longitude Minutes', & 'Comments'\n",
    "StationLocations = pd.read_csv(\"SFBay_TableofStationLocations.csv\")\n",
    "\n",
    "#Create a list of tuples, each containing the coordinates: (NL Deg NL Min, WL Deg, WL Min)\n",
    "DMM_coordinates = [(str(x)+ \" \" + str(y), str(z) + \" \" + str(a)) for x, y, z, a in zip(StationLocations[StationLocations.columns[1]], StationLocations[StationLocations.columns[2]], StationLocations[StationLocations.columns[3]], StationLocations[StationLocations.columns[4]])]\n",
    "\n",
    "#Create a dictionary where the station number is the key, coordinate of the associated section is the value. \n",
    "DMM_dict = {int(Station): Coordinates for Station,Coordinates in zip(StationLocations[StationLocations.columns[0]], DMM_coordinates)}\n",
    "\n",
    "for df in dataframes:\n",
    "    df['Coordinates'] = df[\"Station Number\"].map(DMM_dict)\n",
    "\n",
    "#Tidying up the order of column labels \n",
    "columns_list = list(df.columns)\n",
    "columns_list.insert(2, columns_list[21])\n",
    "del columns_list[22]"
   ]
  },
  {
   "cell_type": "code",
   "execution_count": 7,
   "metadata": {},
   "outputs": [
    {
     "data": {
      "text/plain": "['Station Number',\n 'Depth [meters]',\n 'Coordinates',\n 'Discrete Chlorophyll [mg/m3]',\n 'Chlorophyll a/a+PHA',\n 'Fluorescence [volts]',\n 'Calculated Chlorophyll [mg/m3]',\n 'Discrete Oxygen [mg/L]',\n 'Oxygen Electrode Output [volts]',\n 'Oxygen Saturation',\n 'Calculated Oxygen [mg/L]',\n 'Discrete SPM [mg/L]',\n 'Optical Backscatter [volts]',\n 'Calculated SPM [mg/L]',\n 'Measured Extinction Coefficient [per meter]',\n 'Salinity [psu]',\n 'Temperature [°C]',\n 'Nitrite [µM]',\n 'Nitrate + Nitrite [µM]',\n 'Ammonium [µM]',\n 'Phosphate [µM]',\n 'Silicate [µM]']"
     },
     "execution_count": 7,
     "metadata": {},
     "output_type": "execute_result"
    }
   ],
   "source": [
    "columns_list"
   ]
  },
  {
   "cell_type": "code",
   "execution_count": 18,
   "metadata": {},
   "outputs": [],
   "source": [
    "# Rearrange for all dataframes:\n",
    "for df in dataframes:\n",
    "    df = df[columns_list]"
   ]
  },
  {
   "cell_type": "markdown",
   "execution_count": null,
   "metadata": {},
   "outputs": [],
   "source": [
    "We then stack the columns and make station number, depth, coordinates, and constituent combined into one index with each uniqie value. "
   ]
  },
  {
   "cell_type": "code",
   "execution_count": 28,
   "metadata": {},
   "outputs": [],
   "source": [
    "def stack_columns(df):\n",
    "    df.reset_index(inplace = True)\n",
    "    # Station Number, Depth [meters], coordinates, and constituent will become an index. \n",
    "    multi_df = df.set_index(list(df.columns[:4]))\n",
    "    stacked_df = multi_df.stack(dropna = False).reset_index()\n",
    "    # Sort the dataframe by Station Number and Depth [meters].\n",
    "    stacked_df = stacked_df.sort_values(by = [stacked_df.columns[0], stacked_df.columns[1]])\n",
    "    stacked_df.set_index(stacked_df.columns[0], inplace = True)\n",
    "    return stacked_df"
   ]
  },
  {
   "cell_type": "code",
   "execution_count": 31,
   "metadata": {},
   "outputs": [],
   "source": [
    "for df in dataframes:\n",
    "    df = stack_columns(df).rename(columns = {0:'Value', 'level_4': 'Constituent'})"
   ]
  },
  {
   "cell_type": "markdown",
   "execution_count": null,
   "metadata": {},
   "outputs": [],
   "source": [
    "Finally, we concatenate the modified dataframes together:"
   ]
  },
  {
   "cell_type": "code",
   "execution_count": 32,
   "metadata": {},
   "outputs": [
    {
     "data": {
      "text/html": "<div>\n<style scoped>\n    .dataframe tbody tr th:only-of-type {\n        vertical-align: middle;\n    }\n\n    .dataframe tbody tr th {\n        vertical-align: top;\n    }\n\n    .dataframe thead th {\n        text-align: right;\n    }\n</style>\n<table border=\"1\" class=\"dataframe\">\n  <thead>\n    <tr style=\"text-align: right;\">\n      <th></th>\n      <th>Station Number</th>\n      <th>Depth [meters]</th>\n      <th>Coordinates</th>\n      <th>Constituent</th>\n      <th>Value</th>\n    </tr>\n    <tr>\n      <th>Date MM/DD/YYYY</th>\n      <th></th>\n      <th></th>\n      <th></th>\n      <th></th>\n      <th></th>\n    </tr>\n  </thead>\n  <tbody>\n    <tr>\n      <th>2014-01-14</th>\n      <td>2.0</td>\n      <td>1</td>\n      <td>(38  3.8', -121  51.1')</td>\n      <td>Discrete Chlorophyll [mg/m3]</td>\n      <td>NaN</td>\n    </tr>\n    <tr>\n      <th>2014-01-14</th>\n      <td>2.0</td>\n      <td>1</td>\n      <td>(38  3.8', -121  51.1')</td>\n      <td>Chlorophyll a/a+PHA</td>\n      <td>NaN</td>\n    </tr>\n    <tr>\n      <th>2014-01-14</th>\n      <td>2.0</td>\n      <td>1</td>\n      <td>(38  3.8', -121  51.1')</td>\n      <td>Fluorescence [volts]</td>\n      <td>0.22</td>\n    </tr>\n    <tr>\n      <th>2014-01-14</th>\n      <td>2.0</td>\n      <td>1</td>\n      <td>(38  3.8', -121  51.1')</td>\n      <td>Calculated Chlorophyll [mg/m3]</td>\n      <td>1.9</td>\n    </tr>\n    <tr>\n      <th>2014-01-14</th>\n      <td>2.0</td>\n      <td>1</td>\n      <td>(38  3.8', -121  51.1')</td>\n      <td>Discrete Oxygen [mg/L]</td>\n      <td>NaN</td>\n    </tr>\n  </tbody>\n</table>\n</div>",
      "text/plain": "                 Station Number  Depth [meters]              Coordinates  \\\nDate MM/DD/YYYY                                                            \n2014-01-14                  2.0               1  (38  3.8', -121  51.1')   \n2014-01-14                  2.0               1  (38  3.8', -121  51.1')   \n2014-01-14                  2.0               1  (38  3.8', -121  51.1')   \n2014-01-14                  2.0               1  (38  3.8', -121  51.1')   \n2014-01-14                  2.0               1  (38  3.8', -121  51.1')   \n\n                                    Constituent Value  \nDate MM/DD/YYYY                                        \n2014-01-14         Discrete Chlorophyll [mg/m3]   NaN  \n2014-01-14                  Chlorophyll a/a+PHA   NaN  \n2014-01-14                 Fluorescence [volts]  0.22  \n2014-01-14       Calculated Chlorophyll [mg/m3]   1.9  \n2014-01-14               Discrete Oxygen [mg/L]   NaN  "
     },
     "execution_count": 32,
     "metadata": {},
     "output_type": "execute_result"
    }
   ],
   "source": [
    "water_quality = pd.concat([quality_201415,quality_2016, quality_2017, quality_2018])\n",
    "# Let's examine the rows\n",
    "water_quality.head()"
   ]
  },
  {
   "cell_type": "markdown",
   "execution_count": null,
   "metadata": {},
   "outputs": [],
   "source": [
    "We now have a workable dataframe that we can perform some analysis on! "
   ]
  }
 ]
}