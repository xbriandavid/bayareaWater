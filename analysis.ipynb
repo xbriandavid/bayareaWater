{
 "cells": [
  {
   "cell_type": "markdown",
   "metadata": {},
   "source": [
    "# Analyzing Constituent Values"
   ]
  },
  {
   "cell_type": "markdown",
   "metadata": {},
   "source": [
    "Here, we will analyze the constituent values of the dataset to get a better sense on the state of water quality in the San Francsico Bay. Here is a list of all the constituents recorded in the dataframe that we will analyze: \n",
    "* Discrete Cholorophyll-a\n",
    "* Calculated Cholorophyll\n",
    "* Discrete Oxygen\n",
    "* Calculated Oxygen\n",
    "* Discrete SPM\n",
    "* Calculated SPM\n",
    "* Extinction Coefficient\n",
    "* Salinity\n",
    "* Temperature\n",
    "* Nitrite\n",
    "* Ammonium\n",
    "* Phosphate\n",
    "\n",
    "Discrete values are the recorded values conducted by USGS in their trials of examining water at particular stations; in contrast, calculated values are estimated concentrations of the constituent at different levels of depth and numerous stations. We will focus on the calculated values of the constituent.\n",
    "\n",
    "Below is the map of the San Francisco Bay including the Suisun Bay and the San Pablo Bay \n",
    "![Bay Area Map](stationMaps.png)"
   ]
  },
  {
   "cell_type": "markdown",
   "execution_count": null,
   "metadata": {},
   "outputs": [],
   "source": [
    "First let's import the cleaned_data set:"
   ]
  },
  {
   "cell_type": "code",
   "execution_count": 6,
   "metadata": {},
   "outputs": [],
   "source": [
    "import pandas as pd\n",
    "waterQuality = pd.read_pickle(\"waterQualityData.pkl\")\n",
    "waterQuality['Value'] = pd.to_numeric(waterQuality['Value'])"
   ]
  },
  {
   "cell_type": "markdown",
   "metadata": {},
   "source": [
    "## Cholorophyll"
   ]
  },
  {
   "cell_type": "markdown",
   "metadata": {},
   "source": [
    "We will first analyze calculated cholorophyll. The values of this constituent were estimated through peforming linear regression between fluorometer voltages calculated from a fluorometer (a device used to measure  fluorescence/light) and using this output (fluorometer voltages) with the discrete measures of chlorophyll. "
   ]
  },
  {
   "cell_type": "markdown",
   "execution_count": null,
   "metadata": {},
   "outputs": [],
   "source": [
    "I thought what was most interesting is how big spikes of cholrophyll conentration in the waters occur begin in summer. From analyzing the average and medium concentration of cholrophyll in a monthly-basis after each year, it wasn't quite surprising to see that the summer time saw an increase of this constituent. "
   ]
  },
  {
   "cell_type": "code",
   "execution_count": 10,
   "metadata": {},
   "outputs": [
    {
     "ename": "SyntaxError",
     "evalue": "EOL while scanning string literal (<ipython-input-10-45bf2718fff1>, line 6)",
     "output_type": "error",
     "traceback": [
      "\u001b[0;36m  File \u001b[0;32m\"<ipython-input-10-45bf2718fff1>\"\u001b[0;36m, line \u001b[0;32m6\u001b[0m\n\u001b[0;31m    year2015 = waterQuality.loc['2015-01-01':'2015-12-31'']\u001b[0m\n\u001b[0m                                                           ^\u001b[0m\n\u001b[0;31mSyntaxError\u001b[0m\u001b[0;31m:\u001b[0m EOL while scanning string literal\n"
     ]
    }
   ],
   "source": [
    "from analysisMethods import monthlyMean\n",
    "from analysisMethods import monthlyMeanPlot\n",
    "chloro = 'Calculated Chlorophyll [mg/m3]'\n",
    "# Creation of the 2014 plot:\n",
    "year2014 = waterQuality.loc['2014-01-01':'2014-12-31'].groupby(['Station Number', 'Constituent'])\n",
    "year2015 = waterQuality.loc['2015-01-01':'2015-12-31'].groupby(['Station Number', 'Constituent'])\n",
    "year2016 = waterQuality.loc['2016-01-01':'2015-12-31'].groupby(['Station Number', 'Constituent'])\n",
    "year2017 = waterQyality.loc['2017-01-01':'2017-12-31'].groupby(['Station Number', 'Constituent'])\n",
    "year2018 = waterQuality.loc['2018-01-01':'2018-12-31'].groupby(['Station Number', 'Constituent'])\n",
    "\n",
    "year2014Chloro = monthlyMean(year2014, chloro)\n",
    "year2015Chloro = monthlyMean(year2015, chloro)\n",
    "year2016Chloro = monthlyMean(year2016, chloro)\n",
    "year2017Chloro = monthlyMean(year2017, chloro)\n",
    "year2018Chloro = monthlyMean(year2018, chloro)\n",
    "\n",
    "monthlyMeanPlot(year2014Chloro)\n",
    "monthlyMeanPlot(year2015Chloro)"
   ]
  }
 ],
 "metadata": {
  "kernelspec": {
   "display_name": "Python 3",
   "language": "python",
   "name": "python3"
  },
  "language_info": {
   "codemirror_mode": {
    "name": "ipython",
    "version": 3
   },
   "file_extension": ".py",
   "mimetype": "text/x-python",
   "name": "python",
   "nbconvert_exporter": "python",
   "pygments_lexer": "ipython3",
   "version": "3.7.4-final"
  }
 },
 "nbformat": 4,
 "nbformat_minor": 2
}