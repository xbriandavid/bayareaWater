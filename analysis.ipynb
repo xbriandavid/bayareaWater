{
 "cells": [
  {
   "cell_type": "markdown",
   "metadata": {},
   "source": [
    "# Analyzing Constituent Values"
   ]
  },
  {
   "cell_type": "markdown",
   "metadata": {},
   "source": [
    "Here, we will analyze the constituent values of the dataset to get a better sense on the state of water quality in the San Francsico Bay. Here is a list of all the constituents recorded in the dataframe that we will analyze: \n",
    "* Discrete Cholorophyll-a\n",
    "* Calculated Cholorophyll\n",
    "* Discrete Oxygen\n",
    "* Calculated Oxygen\n",
    "* Discrete SPM\n",
    "* Calculated SPM\n",
    "* Extinction Coefficient\n",
    "* Salinity\n",
    "* Temperature\n",
    "* Nitrite\n",
    "* Ammonium\n",
    "* Phosphate\n",
    "\n",
    "Discrete values are the recorded values conducted by USGS in their trials of examining water at particular stations; in contrast, calculated values are estimated concentrations of the constituent at different levels of depth and numerous stations. We will focus on the calculated values of the constituent.\n",
    "\n",
    "Below is the map of the San Francisco Bay including the Suisun Bay and the San Pablo Bay \n",
    "![Bay Area Map](stationMaps.png)"
   ]
  },
  {
   "cell_type": "markdown",
   "metadata": {},
   "source": [
    "## Cholorophyll"
   ]
  },
  {
   "cell_type": "markdown",
   "metadata": {},
   "source": [
    "We will first analyze cholorophyll. The values of this constituent were calculated using a fluorometer (device used to measure  fluorescence/light) and using this output (fluorometer voltages) and performing linear regresion with the discrete measures of chlorophyll. "
   ]
  }
 ],
 "metadata": {
  "kernelspec": {
   "display_name": "Python 3",
   "language": "python",
   "name": "python3"
  },
  "language_info": {
   "codemirror_mode": {
    "name": "ipython",
    "version": 3
   },
   "file_extension": ".py",
   "mimetype": "text/x-python",
   "name": "python",
   "nbconvert_exporter": "python",
   "pygments_lexer": "ipython3",
   "version": "3.6.4"
  }
 },
 "nbformat": 4,
 "nbformat_minor": 2
}
